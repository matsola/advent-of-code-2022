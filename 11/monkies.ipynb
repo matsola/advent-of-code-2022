{
 "cells": [
  {
   "cell_type": "code",
   "execution_count": null,
   "metadata": {},
   "outputs": [],
   "source": [
    "from dataclasses import dataclass\n",
    "from typing import Callable\n",
    "import re\n",
    "import operator\n",
    "\n",
    "\n",
    "@dataclass\n",
    "class Monkey:\n",
    "    id: int\n",
    "    items: list[int]\n",
    "    operation: Callable\n",
    "    divisbleBy: int\n",
    "    iftrue: int\n",
    "    iffalse: int\n",
    "    inspects: int = 0\n",
    "\n",
    "\n",
    "def eval_op(e1: str, op: str, e2: str):\n",
    "    f = operator.add if op == \"+\" else operator.mul\n",
    "    return lambda item: f(item if e1 == \"old\" else int(e1), item if e2 == \"old\" else int(e2))\n",
    "\n",
    "\n",
    "PATTERN = re.compile(\n",
    "    \"Monkey (?P<monkey>\\d+):\\s+Starting items: (?P<items>\\d+(, \\d+)*)\\s+Operation: new = (?P<e1>[a-z0-9]+) (?P<op>[\\+\\-\\*]) (?P<e2>[a-z0-9]+)\\s+Test: divisible by (?P<divisible>\\d+)\\s+If true: throw to monkey (?P<iftrue>\\d+)\\s+If false: throw to monkey (?P<iffalse>\\d+)\", re.MULTILINE)\n",
    "\n",
    "\n",
    "def parse_monkey(raw: str) -> Monkey:\n",
    "    m = re.match(PATTERN, raw)\n",
    "    return Monkey(\n",
    "        int(m.group(\"monkey\")),\n",
    "        [int(x.strip()) for x in m.group(\"items\").split(\", \")],\n",
    "        eval_op(m.group(\"e1\"), m.group(\"op\"), m.group(\"e2\")),\n",
    "        int(m.group(\"divisible\")),\n",
    "        int(m.group(\"iftrue\")),\n",
    "        int(m.group(\"iffalse\"))\n",
    "    )\n",
    "\n",
    "\n",
    "def parse():\n",
    "    buf = \"\"\n",
    "    for line in open(\"input.txt\"):\n",
    "        if line == \"\\n\":\n",
    "            yield parse_monkey(buf)\n",
    "            buf = \"\"\n",
    "        else:\n",
    "            buf += line\n",
    "    yield parse_monkey(buf)\n"
   ]
  },
  {
   "cell_type": "code",
   "execution_count": null,
   "metadata": {},
   "outputs": [],
   "source": [
    "monkies = list(parse())\n",
    "for round in range(20):\n",
    "    for monkey in monkies:\n",
    "        for item in monkey.items:\n",
    "            new_item = monkey.operation(item) // 3\n",
    "            monkies[monkey.iftrue if new_item % monkey.divisbleBy == 0 else monkey.iffalse].items.append(new_item)\n",
    "            monkey.inspects += 1\n",
    "        monkey.items = []\n",
    "\n",
    "m1, m2 = sorted(monkies, key=lambda x: x.inspects, reverse=True)[:2]\n",
    "m1.inspects * m2.inspects"
   ]
  },
  {
   "cell_type": "code",
   "execution_count": null,
   "metadata": {},
   "outputs": [],
   "source": [
    "monkies = list(parse())\n",
    "\n",
    "import functools\n",
    "modmod = functools.reduce(operator.mul, [monkey.divisbleBy for monkey in monkies])\n",
    "\n",
    "for round in range(10000):\n",
    "    for monkey in monkies:\n",
    "        for item in monkey.items:\n",
    "            new_item = monkey.operation(item) % modmod\n",
    "            monkies[monkey.iftrue if new_item % monkey.divisbleBy == 0 else monkey.iffalse].items.append(new_item)\n",
    "            monkey.inspects += 1\n",
    "        monkey.items = []\n",
    "\n",
    "m1, m2 = sorted(monkies, key=lambda x: x.inspects, reverse=True)[:2]\n",
    "m1.inspects * m2.inspects"
   ]
  }
 ],
 "metadata": {
  "kernelspec": {
   "display_name": "Python 3",
   "language": "python",
   "name": "python3"
  },
  "language_info": {
   "codemirror_mode": {
    "name": "ipython",
    "version": 3
   },
   "file_extension": ".py",
   "mimetype": "text/x-python",
   "name": "python",
   "nbconvert_exporter": "python",
   "pygments_lexer": "ipython3",
   "version": "3.10.8"
  },
  "orig_nbformat": 4,
  "vscode": {
   "interpreter": {
    "hash": "b0fa6594d8f4cbf19f97940f81e996739fb7646882a419484c72d19e05852a7e"
   }
  }
 },
 "nbformat": 4,
 "nbformat_minor": 2
}
