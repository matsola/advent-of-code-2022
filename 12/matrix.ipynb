{
 "cells": [
  {
   "cell_type": "code",
   "execution_count": null,
   "metadata": {},
   "outputs": [],
   "source": [
    "from __future__ import annotations\n",
    "\n",
    "from dataclasses import dataclass, field\n",
    "import itertools\n",
    "from collections import deque\n",
    "\n",
    "@dataclass(repr=False)\n",
    "class Spot:\n",
    "    pos: tuple[int, int]\n",
    "    char: str\n",
    "    distance: int\n",
    "    adjacent: list[Spot]\n",
    "    previous: Spot\n",
    "\n",
    "def parse():\n",
    "    matrix = [[Spot((x, y), char, -1, [], None) for x, char in enumerate(line.strip())] for y, line in enumerate(open(\"input.txt\"))]\n",
    "    for spot in itertools.chain(*matrix):\n",
    "        spot.adjacent = find_adjacent(spot, matrix)\n",
    "    return matrix\n",
    "\n",
    "def get_spot(pos: tuple[int, int], matrix: list[list[Spot]]):\n",
    "    return matrix[pos[1]][pos[0]] if pos[0] in range(len(matrix[0])) and pos[1] in range(len(matrix)) else None\n",
    "\n",
    "def find_adjacent(spot: Spot, matrix: list[list[Spot]]):\n",
    "    x, y = spot.pos\n",
    "    return [x for x in [get_spot((x - 1, y), matrix), get_spot((x + 1, y), matrix), get_spot((x, y + 1), matrix), get_spot((x, y - 1), matrix)] if x is not None and can_go_to(spot, x)]\n",
    "\n",
    "def translate_chr(c):\n",
    "    return c.replace(\"S\", \"a\").replace(\"E\", \"z\")\n",
    "\n",
    "def can_go_to(spot1, spot2):\n",
    "    return ord(translate_chr(spot2.char)) - ord(translate_chr(spot1.char)) <= 1\n",
    "\n",
    "def shortest_path(start: Spot):\n",
    "    queue = deque()\n",
    "    queue.append((0, start))\n",
    "\n",
    "    while queue and (q := queue.popleft()):\n",
    "        distance, curr = q\n",
    "        if curr.distance != -1:\n",
    "            continue\n",
    "\n",
    "        curr.distance = distance\n",
    "        if curr.char == \"E\":\n",
    "            retval = []\n",
    "            while curr.previous:\n",
    "                retval.append(curr)\n",
    "                curr = curr.previous\n",
    "            return list(reversed(retval))\n",
    "\n",
    "        else: \n",
    "            for n in curr.adjacent:\n",
    "                if n.distance == -1:\n",
    "                    n.previous = curr\n",
    "                    queue.append((curr.distance + 1, n))\n",
    "    return None\n",
    "\n",
    "matrix = parse()\n",
    "len(shortest_path(matrix[0][0]))"
   ]
  },
  {
   "cell_type": "code",
   "execution_count": null,
   "metadata": {},
   "outputs": [],
   "source": [
    "min([len(p) for p in [shortest_path(get_spot(s.pos, parse())) for s in itertools.chain(*parse()) if translate_chr(s.char) == \"a\"] if p])"
   ]
  }
 ],
 "metadata": {
  "kernelspec": {
   "display_name": "Python 3",
   "language": "python",
   "name": "python3"
  },
  "language_info": {
   "codemirror_mode": {
    "name": "ipython",
    "version": 3
   },
   "file_extension": ".py",
   "mimetype": "text/x-python",
   "name": "python",
   "nbconvert_exporter": "python",
   "pygments_lexer": "ipython3",
   "version": "3.10.8"
  },
  "orig_nbformat": 4,
  "vscode": {
   "interpreter": {
    "hash": "b0fa6594d8f4cbf19f97940f81e996739fb7646882a419484c72d19e05852a7e"
   }
  }
 },
 "nbformat": 4,
 "nbformat_minor": 2
}
