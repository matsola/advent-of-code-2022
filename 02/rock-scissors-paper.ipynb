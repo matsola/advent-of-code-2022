{
 "cells": [
  {
   "cell_type": "code",
   "execution_count": null,
   "metadata": {},
   "outputs": [],
   "source": [
    "def rounds():\n",
    "    for line in open(\"input.txt\"):\n",
    "        yield line.strip().split(' ')"
   ]
  },
  {
   "cell_type": "code",
   "execution_count": null,
   "metadata": {},
   "outputs": [],
   "source": [
    "def score(c):\n",
    "    return {'X': 1, 'Y': 2, 'Z': 3}[c]\n",
    "\n",
    "def result(opponent, me):\n",
    "    if (opponent, me) in [('A', 'X'), ('B', 'Y'), ('C', 'Z')]:\n",
    "        return 3\n",
    "    if (opponent, me) in [('A', 'Y'), ('B', 'Z'), ('C', 'X')]:\n",
    "        return 6\n",
    "    return 0\n",
    "\n",
    "def find_shape_for_objective(oppnent, objective):\n",
    "    if objective == 'X':\n",
    "        return {'A': 'Z', 'B': 'X', 'C': 'Y'}[oppnent]\n",
    "    elif objective == 'Y':\n",
    "        return {'A': 'X', 'B': 'Y', 'C': 'Z'}[oppnent]\n",
    "    elif objective == 'Z':\n",
    "        return {'A': 'Y', 'B': 'Z', 'C': 'X'}[oppnent]\n",
    "    "
   ]
  },
  {
   "cell_type": "code",
   "execution_count": null,
   "metadata": {},
   "outputs": [],
   "source": [
    "sum([score(me) + result(opponent, me) for (opponent, me) in rounds()])"
   ]
  },
  {
   "cell_type": "code",
   "execution_count": null,
   "metadata": {},
   "outputs": [],
   "source": [
    "sum([score(shape) + result(opponent, shape) for (opponent, objective) in rounds() if (shape := find_shape_for_objective(opponent, objective))])"
   ]
  }
 ],
 "metadata": {
  "kernelspec": {
   "display_name": "Python 3.10.8 64-bit",
   "language": "python",
   "name": "python3"
  },
  "language_info": {
   "codemirror_mode": {
    "name": "ipython",
    "version": 3
   },
   "file_extension": ".py",
   "mimetype": "text/x-python",
   "name": "python",
   "nbconvert_exporter": "python",
   "pygments_lexer": "ipython3",
   "version": "3.10.8"
  },
  "orig_nbformat": 4,
  "vscode": {
   "interpreter": {
    "hash": "b0fa6594d8f4cbf19f97940f81e996739fb7646882a419484c72d19e05852a7e"
   }
  }
 },
 "nbformat": 4,
 "nbformat_minor": 2
}
