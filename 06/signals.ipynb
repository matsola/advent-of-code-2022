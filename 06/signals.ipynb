{
 "cells": [
  {
   "cell_type": "code",
   "execution_count": null,
   "metadata": {},
   "outputs": [],
   "source": [
    "from collections import deque\n",
    "\n",
    "def signals(bufsize):\n",
    "    with open(\"input.txt\") as fp:\n",
    "        buffer = deque()\n",
    "        pos = 0\n",
    "        while (c := fp.read(1)):\n",
    "            pos += 1\n",
    "            buffer.append(c)\n",
    "            if len(buffer) > bufsize:\n",
    "                buffer.popleft()\n",
    "\n",
    "            if len(buffer) == bufsize:\n",
    "                yield (pos, list(buffer))\n",
    "        \n",
    "            "
   ]
  },
  {
   "cell_type": "code",
   "execution_count": null,
   "metadata": {},
   "outputs": [],
   "source": [
    "def findStartMarker(bufsize):\n",
    "    for (pos, pattern) in signals(bufsize):\n",
    "        if len(set(pattern)) == len(pattern):\n",
    "            return pos\n",
    "    return -1\n",
    "\n",
    "(findStartMarker(4), findStartMarker(14))"
   ]
  }
 ],
 "metadata": {
  "kernelspec": {
   "display_name": "Python 3.10.8 64-bit",
   "language": "python",
   "name": "python3"
  },
  "language_info": {
   "codemirror_mode": {
    "name": "ipython",
    "version": 3
   },
   "file_extension": ".py",
   "mimetype": "text/x-python",
   "name": "python",
   "nbconvert_exporter": "python",
   "pygments_lexer": "ipython3",
   "version": "3.10.8"
  },
  "orig_nbformat": 4,
  "vscode": {
   "interpreter": {
    "hash": "b0fa6594d8f4cbf19f97940f81e996739fb7646882a419484c72d19e05852a7e"
   }
  }
 },
 "nbformat": 4,
 "nbformat_minor": 2
}
