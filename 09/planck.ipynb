{
 "cells": [
  {
   "cell_type": "code",
   "execution_count": null,
   "metadata": {},
   "outputs": [],
   "source": [
    "import itertools\n",
    "from dataclasses import dataclass\n",
    "\n",
    "@dataclass\n",
    "class Knot:\n",
    "    name: str\n",
    "    pos: tuple[int, int]\n",
    "    visited: set[tuple[int, int]]\n",
    "\n",
    "def instructions():\n",
    "    for line in open(\"input.txt\"):\n",
    "        direction, steps = line.split(\" \")\n",
    "        yield from itertools.repeat(direction, int(steps))\n",
    "\n",
    "def move_head(knot, direction):\n",
    "    x,y = knot.pos\n",
    "    if direction == 'U':\n",
    "        knot.pos = (x, y + 1)\n",
    "    elif direction == 'D':\n",
    "        knot.pos = (x, y - 1)\n",
    "    elif direction == 'L':\n",
    "        knot.pos = (x-1, y)\n",
    "    else:\n",
    "        knot.pos = (x + 1, y)\n",
    "    knot.visited.add(knot.pos)\n",
    "\n",
    "def is_touching(knot1, knot2):\n",
    "    x1, y1 = knot1.pos\n",
    "    x2, y2 = knot2.pos\n",
    "    return abs(x1 - x2) <= 1 and abs(y1 - y2) <= 1\n",
    "\n",
    "def move_tail(tail, destination_pos):\n",
    "    x, y = tail.pos\n",
    "    x_des, y_des = destination_pos\n",
    "    new_pos =  (x + 1 if x_des > x else x - 1 if x_des < x else x, y + 1 if y_des > y else y - 1 if y_des < y else y)\n",
    "    tail.pos = new_pos\n",
    "    tail.visited.add(new_pos)\n",
    "\n",
    "def pretty_print(visited: set[tuple[int, int]]):\n",
    "    x_max = max([t[0] for t in visited])\n",
    "    y_max = max([t[1] for t in visited])\n",
    "\n",
    "    for y in reversed(range(0, y_max + 1)):\n",
    "        line = f\"{y}: \"\n",
    "        for x in range(0, x_max + 1):\n",
    "            line += \".\" if (x,y) not in visited else \"#\"\n",
    "        print(line)\n"
   ]
  },
  {
   "cell_type": "code",
   "execution_count": null,
   "metadata": {},
   "outputs": [],
   "source": [
    "\n",
    "head = Knot('H', (0,0), {(0,0)})\n",
    "tail = Knot('T', (0,0), {(0,0)})\n",
    "\n",
    "for direction in instructions():\n",
    "    move_head(head, direction)\n",
    "    if not is_touching(head, tail):\n",
    "        move_tail(tail, head.pos)\n",
    "    \n",
    "len(tail.visited)\n"
   ]
  },
  {
   "cell_type": "code",
   "execution_count": null,
   "metadata": {},
   "outputs": [],
   "source": [
    "knots = head, *tails = [Knot(str(x), (0,0), {(0,0)}) for x in range(0, 10)]\n",
    "\n",
    "for direction in instructions():\n",
    "    move_head(head, direction)\n",
    "    for k1, k2 in itertools.pairwise(knots):\n",
    "        if not is_touching(k1, k2):\n",
    "            new_pos = move_tail(k2, k1.pos)\n",
    "\n",
    "len(knots[9].visited)\n"
   ]
  }
 ],
 "metadata": {
  "kernelspec": {
   "display_name": "Python 3",
   "language": "python",
   "name": "python3"
  },
  "language_info": {
   "codemirror_mode": {
    "name": "ipython",
    "version": 3
   },
   "file_extension": ".py",
   "mimetype": "text/x-python",
   "name": "python",
   "nbconvert_exporter": "python",
   "pygments_lexer": "ipython3",
   "version": "3.10.8"
  },
  "orig_nbformat": 4,
  "vscode": {
   "interpreter": {
    "hash": "b0fa6594d8f4cbf19f97940f81e996739fb7646882a419484c72d19e05852a7e"
   }
  }
 },
 "nbformat": 4,
 "nbformat_minor": 2
}
