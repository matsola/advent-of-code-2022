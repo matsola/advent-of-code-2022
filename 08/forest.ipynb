{
 "cells": [
  {
   "cell_type": "code",
   "execution_count": 1,
   "metadata": {},
   "outputs": [],
   "source": [
    "from dataclasses import dataclass\n",
    "import itertools\n",
    "\n",
    "@dataclass(frozen=True)\n",
    "class Tree:\n",
    "    pos: tuple[int, int]\n",
    "    height: int\n",
    "\n",
    "forest_map = []\n",
    "for (y, row) in enumerate(open(\"input.txt\")):\n",
    "    forest_map.append([Tree((x, y), int(h)) for (x, h) in enumerate(row.strip())])\n",
    "    \n",
    "def pretty_print(forest_map: list[list[Tree]], res = None, mark_tree = None):\n",
    "    for row in forest_map:\n",
    "        print([f\"{t.height:^3}\" if res is None or t in res else \" - \" if mark_tree != t else f\">{t.height}<\" for t in row])"
   ]
  },
  {
   "cell_type": "code",
   "execution_count": 4,
   "metadata": {},
   "outputs": [
    {
     "data": {
      "text/plain": [
       "21"
      ]
     },
     "execution_count": 4,
     "metadata": {},
     "output_type": "execute_result"
    }
   ],
   "source": [
    "def get_col(forest_map: list[list[Tree]], col: int) -> list[Tree]:\n",
    "    return [row[col] for row in forest_map]\n",
    "\n",
    "def visible_from_ground(col):\n",
    "    curr_max = -1\n",
    "    for t in col:\n",
    "        if curr_max < t.height:\n",
    "            curr_max = t.height\n",
    "            yield t\n",
    "\n",
    "def visible_trees(forest_map: list[list[Tree]]) -> set[tuple[int, int]]:\n",
    "    visible_trees = set()\n",
    "    for col_id, _ in enumerate(forest_map[0]):\n",
    "        col = get_col(forest_map, col_id)\n",
    "        visible_trees.update(visible_from_ground(col))\n",
    "        visible_trees.update(visible_from_ground(reversed(col)))\n",
    "    \n",
    "    for row in forest_map:\n",
    "        visible_trees.update(visible_from_ground(row))\n",
    "        visible_trees.update(visible_from_ground(reversed(row)))\n",
    "        \n",
    "    return visible_trees\n",
    "\n",
    "res = visible_trees(forest_map)\n",
    "len(res)        "
   ]
  },
  {
   "cell_type": "code",
   "execution_count": 5,
   "metadata": {},
   "outputs": [],
   "source": [
    "def visible_from_height(col: list[Tree], height: int) -> list[Tree]:\n",
    "    for t in col:\n",
    "        yield t\n",
    "        if t.height >= height:\n",
    "            return\n",
    "\n",
    "def find_view_from(t: Tree, forest_map: list[list[Tree]]) -> list[Tree]:\n",
    "    x,y = t.pos\n",
    "    row = forest_map[y]\n",
    "    col = get_col(forest_map, x)\n",
    "\n",
    "    left_of = visible_from_height(reversed(row[:x]), t.height)\n",
    "    right_of = visible_from_height(row[x+1:], t.height)\n",
    "    above = visible_from_height(reversed(col[:y]), t.height)\n",
    "    below = visible_from_height(col[y+1:], t.height)\n",
    "\n",
    "    return [left_of, right_of, above, below]\n",
    "\n",
    "res = find_view_from(forest_map[3][2], forest_map)\n"
   ]
  },
  {
   "cell_type": "code",
   "execution_count": null,
   "metadata": {},
   "outputs": [],
   "source": [
    "def score(views: list[list[Tree]]) -> int:\n",
    "    product = 1\n",
    "    for view in views:\n",
    "        if (factor := len(list(view))):\n",
    "            product *= factor\n",
    "    return product\n",
    "\n",
    "max([score(find_view_from(t, forest_map)) for t in itertools.chain(*forest_map)])\n",
    "\n"
   ]
  },
  {
   "cell_type": "code",
   "execution_count": 7,
   "metadata": {},
   "outputs": [
    {
     "name": "stdout",
     "output_type": "stream",
     "text": [
      "[' 3 ', ' 0 ', ' 3 ', ' 7 ', ' 3 ']\n",
      "[' 2 ', ' 5 ', ' 5 ', ' 1 ', ' 2 ']\n",
      "[' 6 ', ' 5 ', ' 3 ', ' 3 ', ' 2 ']\n",
      "[' 3 ', ' 3 ', ' 5 ', ' 4 ', ' 9 ']\n",
      "[' 3 ', ' 5 ', ' 3 ', ' 9 ', ' 0 ']\n",
      "\n",
      "[' - ', ' - ', ' - ', ' - ', ' - ']\n",
      "[' - ', ' - ', ' 5 ', ' - ', ' - ']\n",
      "[' - ', ' - ', ' 3 ', ' - ', ' - ']\n",
      "[' 3 ', ' 3 ', '>5<', ' 4 ', ' 9 ']\n",
      "[' - ', ' - ', ' 3 ', ' - ', ' - ']\n"
     ]
    }
   ],
   "source": [
    "tree = forest_map[3][2]\n",
    "\n",
    "pretty_print(forest_map, mark_tree=tree)\n",
    "print()\n",
    "pretty_print(forest_map, set(itertools.chain(*find_view_from(tree, forest_map))), mark_tree=tree)"
   ]
  }
 ],
 "metadata": {
  "kernelspec": {
   "display_name": "Python 3.10.8 64-bit",
   "language": "python",
   "name": "python3"
  },
  "language_info": {
   "codemirror_mode": {
    "name": "ipython",
    "version": 3
   },
   "file_extension": ".py",
   "mimetype": "text/x-python",
   "name": "python",
   "nbconvert_exporter": "python",
   "pygments_lexer": "ipython3",
   "version": "3.10.8"
  },
  "orig_nbformat": 4,
  "vscode": {
   "interpreter": {
    "hash": "b0fa6594d8f4cbf19f97940f81e996739fb7646882a419484c72d19e05852a7e"
   }
  }
 },
 "nbformat": 4,
 "nbformat_minor": 2
}
