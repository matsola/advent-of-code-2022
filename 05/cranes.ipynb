{
 "cells": [
  {
   "cell_type": "code",
   "execution_count": null,
   "metadata": {},
   "outputs": [],
   "source": [
    "from dataclasses import dataclass, field\n",
    "from collections import defaultdict\n",
    "import re\n",
    "\n",
    "@dataclass \n",
    "class Instruction:\n",
    "    howMany: int\n",
    "    source: int\n",
    "    dest: int\n",
    "\n",
    "@dataclass()\n",
    "class CraneData:\n",
    "    stacks: dict[int, list[str]]\n",
    "    instructions: list[Instruction]\n",
    "\n",
    "def cranes() -> CraneData:\n",
    "    def strip_stuff(val: str) -> str:\n",
    "        stuff = re.sub(\"\\[|\\]\", \"\", val).strip()\n",
    "        return stuff if stuff != \"\" else None\n",
    "\n",
    "    setupPattern = re.compile(r\"\\s{4}|\\[[A-Z]\\]\\s|\\[[A-Z]\\]\")\n",
    "    movePattern = re.compile(r\"move (?P<howMany>\\d+) from (?P<source>\\d+) to (?P<dest>\\d+)\")\n",
    "    \n",
    "    stacks = defaultdict(list)\n",
    "    instructions = []\n",
    "\n",
    "    with open(\"input.txt\") as fp:\n",
    "        while (matches := setupPattern.findall(fp.readline())):\n",
    "            for col, val in zip(range(1, len(matches) + 1), matches):\n",
    "                stripped = strip_stuff(val)\n",
    "                if stripped and not stripped.isdigit():\n",
    "                    stacks[col].insert(0, stripped)\n",
    "        fp.readline() # drop empty line\n",
    "\n",
    "        while (m := movePattern.match(fp.readline())):\n",
    "            instructions.append(Instruction(int(m.group(\"howMany\")), int(m.group(\"source\")), int(m.group(\"dest\"))))\n",
    "\n",
    "    return CraneData(stacks, instructions)\n",
    "\n"
   ]
  },
  {
   "cell_type": "code",
   "execution_count": null,
   "metadata": {},
   "outputs": [],
   "source": [
    "def pretty_print_top(stacks):\n",
    "    return \"\".join([stacks[col][-1] for col in sorted(stacks.keys())])"
   ]
  },
  {
   "cell_type": "code",
   "execution_count": null,
   "metadata": {},
   "outputs": [],
   "source": [
    "def move9000(stacks: dict[int, list[str]], instruction: Instruction):\n",
    "    for _ in range(instruction.howMany):\n",
    "        stacks[instruction.dest].append(stacks[instruction.source].pop())"
   ]
  },
  {
   "cell_type": "code",
   "execution_count": null,
   "metadata": {},
   "outputs": [],
   "source": [
    "data = cranes()\n",
    "\n",
    "for instruction in data.instructions:\n",
    "    move9000(data.stacks, instruction)\n",
    "\n",
    "pretty_print_top(data.stacks)\n"
   ]
  },
  {
   "cell_type": "code",
   "execution_count": null,
   "metadata": {},
   "outputs": [],
   "source": [
    "def move9001(stacks: dict[int, list[str]], instruction: Instruction):\n",
    "    in_claw = stacks[instruction.source][len(stacks[instruction.source]) - instruction.howMany:]\n",
    "    stacks[instruction.source] = stacks[instruction.source][:len(stacks[instruction.source]) - instruction.howMany]\n",
    "    stacks[instruction.dest].extend(in_claw)"
   ]
  },
  {
   "cell_type": "code",
   "execution_count": null,
   "metadata": {},
   "outputs": [],
   "source": [
    "data = cranes()\n",
    "\n",
    "for instruction in data.instructions:\n",
    "    move9001(data.stacks, instruction)\n",
    "\n",
    "pretty_print_top(data.stacks)\n"
   ]
  }
 ],
 "metadata": {
  "kernelspec": {
   "display_name": "Python 3.10.8 64-bit",
   "language": "python",
   "name": "python3"
  },
  "language_info": {
   "codemirror_mode": {
    "name": "ipython",
    "version": 3
   },
   "file_extension": ".py",
   "mimetype": "text/x-python",
   "name": "python",
   "nbconvert_exporter": "python",
   "pygments_lexer": "ipython3",
   "version": "3.10.8"
  },
  "orig_nbformat": 4,
  "vscode": {
   "interpreter": {
    "hash": "b0fa6594d8f4cbf19f97940f81e996739fb7646882a419484c72d19e05852a7e"
   }
  }
 },
 "nbformat": 4,
 "nbformat_minor": 2
}
