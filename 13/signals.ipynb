{
 "cells": [
  {
   "cell_type": "code",
   "execution_count": null,
   "metadata": {},
   "outputs": [],
   "source": [
    "import json\n",
    "from enum import Enum\n",
    "\n",
    "\n",
    "class Ordering(Enum):\n",
    "    GOOD = -1\n",
    "    EQ = 0\n",
    "    BAD = 1\n",
    "\n",
    "\n",
    "def parse():\n",
    "    with open(\"input.txt\") as fp:\n",
    "        while (l1 := fp.readline()) and (l2 := fp.readline()):\n",
    "            yield (json.loads(l1), json.loads(l2))\n",
    "            fp.readline()\n",
    "\n",
    "\n",
    "def in_order(a, b) -> Ordering:\n",
    "    match (a, b):\n",
    "        case ([], []): return Ordering.EQ\n",
    "        case ([], _): return Ordering.GOOD\n",
    "        case (_, []): return Ordering.BAD\n",
    "        case (int(v1), int(v2)): return Ordering.GOOD if v1 < v2 else Ordering.EQ if v1 == v2 else Ordering.BAD\n",
    "        case (int(v1), rl): return in_order([v1], rl)\n",
    "        case (ll, int(v2)): return in_order(ll, [v2])\n",
    "        case ([int(lh), *lt], [int(rh), *rt]): return in_order(lt, rt) if (v := in_order(lh, rh)) == Ordering.EQ else v\n",
    "        case ([lh, *lt], [rh, *rt]) if isinstance(lh, list) and isinstance(rh, list): return in_order(lt, rt) if (v := in_order(lh, rh)) == Ordering.EQ else v\n",
    "        case ([lh, *lt], [rh, *rt]): return in_order(lt, rt) if (v := in_order(lh, rh)) == Ordering.EQ else v\n",
    "        case _: raise RuntimeError\n",
    "\n",
    "\n",
    "sum([i for i, (a, b) in enumerate(parse(), start=1)\n",
    "    if (res := in_order(a, b)) == Ordering.GOOD])\n"
   ]
  },
  {
   "cell_type": "code",
   "execution_count": null,
   "metadata": {},
   "outputs": [],
   "source": [
    "from functools import cmp_to_key\n",
    "from itertools import takewhile, chain \n",
    "packets = sorted(chain([[[2]], [[6]]], *parse()), key=cmp_to_key(lambda l,r: in_order(l,r).value))\n",
    "(len(list(takewhile(lambda marker: marker != [[2]], packets))) + 1) * (len(list(takewhile(lambda marker: marker != [[6]], packets))) + 1)"
   ]
  }
 ],
 "metadata": {
  "kernelspec": {
   "display_name": "Python 3",
   "language": "python",
   "name": "python3"
  },
  "language_info": {
   "codemirror_mode": {
    "name": "ipython",
    "version": 3
   },
   "file_extension": ".py",
   "mimetype": "text/x-python",
   "name": "python",
   "nbconvert_exporter": "python",
   "pygments_lexer": "ipython3",
   "version": "3.10.8"
  },
  "orig_nbformat": 4,
  "vscode": {
   "interpreter": {
    "hash": "b0fa6594d8f4cbf19f97940f81e996739fb7646882a419484c72d19e05852a7e"
   }
  }
 },
 "nbformat": 4,
 "nbformat_minor": 2
}
