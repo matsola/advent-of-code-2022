{
 "cells": [
  {
   "cell_type": "code",
   "execution_count": 1,
   "metadata": {},
   "outputs": [],
   "source": [
    "from dataclasses import dataclass\n",
    "import copy\n",
    "\n",
    "\n",
    "@dataclass\n",
    "class Instruction:\n",
    "    name: str\n",
    "    cycle: int\n",
    "    arg: int\n",
    "\n",
    "\n",
    "@dataclass\n",
    "class State:\n",
    "    cycle: int\n",
    "    x: int\n",
    "    screen: list[list[str]]\n",
    "\n",
    "\n",
    "noop = Instruction(\"noop\", 1, None)\n",
    "\n",
    "\n",
    "def read():\n",
    "    for line in open(\"input.txt\"):\n",
    "        if line.strip() == \"noop\":\n",
    "            yield noop\n",
    "        else:\n",
    "            instr, arg = line.split()\n",
    "            yield Instruction(instr, 2, int(arg.strip()))\n",
    "\n",
    "\n",
    "def execute_instr(state, instruction):\n",
    "    instruction.cycle -= 1\n",
    "\n",
    "    if instruction.cycle == 0:\n",
    "        if instruction.name == \"noop\":\n",
    "            pass\n",
    "        if instruction.name == \"addx\":\n",
    "            state.x += instruction.arg\n",
    "\n",
    "\n",
    "def init_screen():\n",
    "    return [[\" - \" for _ in range(40)] for _ in range(6)]\n",
    "\n",
    "\n",
    "def print_screen(screen):\n",
    "    for line in screen:\n",
    "        print(\"\".join(line))\n",
    "\n",
    "\n",
    "def execute(instructions):\n",
    "    state = State(0, 1, init_screen())\n",
    "    retval = [copy.deepcopy(state)]\n",
    "    for instruction in instructions:\n",
    "        while True:\n",
    "            state.screen[(state.cycle % 240) // 40][state.cycle %\n",
    "                                                    40] = \" # \" if abs(state.x - (state.cycle % 40)) <= 1 else \" . \"\n",
    "            execute_instr(state, instruction)\n",
    "            retval.append(copy.deepcopy(state))\n",
    "            state.cycle += 1\n",
    "\n",
    "            if instruction.cycle <= 0:\n",
    "                break\n",
    "\n",
    "    return retval\n"
   ]
  },
  {
   "cell_type": "code",
   "execution_count": 2,
   "metadata": {},
   "outputs": [
    {
     "data": {
      "text/plain": [
       "13140"
      ]
     },
     "execution_count": 2,
     "metadata": {},
     "output_type": "execute_result"
    }
   ],
   "source": [
    "\n",
    "states = execute(read())\n",
    "sum([(i + 1) * states[i].x for i in range(19, len(states), 40)])"
   ]
  },
  {
   "cell_type": "code",
   "execution_count": 3,
   "metadata": {},
   "outputs": [
    {
     "name": "stdout",
     "output_type": "stream",
     "text": [
      " #  #  .  .  #  #  .  .  #  #  .  .  #  #  .  .  #  #  .  .  #  #  .  .  #  #  .  .  #  #  .  .  #  #  .  .  #  #  .  . \n",
      " #  #  #  .  .  .  #  #  #  .  .  .  #  #  #  .  .  .  #  #  #  .  .  .  #  #  #  .  .  .  #  #  #  .  .  .  #  #  #  . \n",
      " #  #  #  #  .  .  .  .  #  #  #  #  .  .  .  .  #  #  #  #  .  .  .  .  #  #  #  #  .  .  .  .  #  #  #  #  .  .  .  . \n",
      " #  #  #  #  #  .  .  .  .  .  #  #  #  #  #  .  .  .  .  .  #  #  #  #  #  .  .  .  .  .  #  #  #  #  #  .  .  .  .  . \n",
      " #  #  #  #  #  #  .  .  .  .  .  .  #  #  #  #  #  #  .  .  .  .  .  .  #  #  #  #  #  #  .  .  .  .  .  .  #  #  #  # \n",
      " #  #  #  #  #  #  #  .  .  .  .  .  .  .  #  #  #  #  #  #  #  .  .  .  .  .  .  .  #  #  #  #  #  #  #  .  .  .  .  . \n"
     ]
    }
   ],
   "source": [
    "print_screen(execute(read())[-1].screen)"
   ]
  }
 ],
 "metadata": {
  "kernelspec": {
   "display_name": "Python 3",
   "language": "python",
   "name": "python3"
  },
  "language_info": {
   "codemirror_mode": {
    "name": "ipython",
    "version": 3
   },
   "file_extension": ".py",
   "mimetype": "text/x-python",
   "name": "python",
   "nbconvert_exporter": "python",
   "pygments_lexer": "ipython3",
   "version": "3.10.8"
  },
  "orig_nbformat": 4,
  "vscode": {
   "interpreter": {
    "hash": "b0fa6594d8f4cbf19f97940f81e996739fb7646882a419484c72d19e05852a7e"
   }
  }
 },
 "nbformat": 4,
 "nbformat_minor": 2
}
