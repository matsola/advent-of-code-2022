{
 "cells": [
  {
   "cell_type": "code",
   "execution_count": null,
   "metadata": {},
   "outputs": [],
   "source": [
    "import itertools\n",
    "\n",
    "ROCK = \"#\"\n",
    "AIR = \".\"\n",
    "SAND = \"o\"\n",
    "\n",
    "\n",
    "class Model(object):\n",
    "    def __init__(self):\n",
    "        self._infinite_at = None\n",
    "        self._height = -1\n",
    "        self._dict = {}\n",
    "\n",
    "    def get(self, p):\n",
    "        return ROCK if self._infinite_at is not None and p[1] == self._infinite_at else self._dict.get(p, AIR)\n",
    "\n",
    "    def set(self, p, v):\n",
    "        self._height = max(self._height, p[1])\n",
    "        self._dict[p] = v\n",
    "\n",
    "    def keys(self):\n",
    "        return self._dict.keys()\n",
    "\n",
    "    def has_infinite_floor(self):\n",
    "        return self._infinite_at is not None\n",
    "\n",
    "    def set_infinite_floor_at(self, h):\n",
    "        self._infinite_at = h\n",
    "\n",
    "    def height(self):\n",
    "        return self._height\n"
   ]
  },
  {
   "cell_type": "code",
   "execution_count": null,
   "metadata": {},
   "outputs": [],
   "source": [
    "def parse():\n",
    "    for line in open(\"input.txt\"):\n",
    "        yield [(int(x.strip()), int(y.strip())) for x, y in [coordinates.split(\",\") for coordinates in line.split(\" -> \")]]\n",
    "\n",
    "\n",
    "def pretty_print(matrix: dict[tuple[int, int], str], num_rows):\n",
    "    xss = set([x for x, _ in matrix.keys()])\n",
    "    min_x, max_x = min(xss), max(xss)\n",
    "\n",
    "    for y in range(num_rows):\n",
    "        for x in range(min_x - 1, max_x + 2):\n",
    "            print(matrix.get((x, y)), end='')\n",
    "        print()\n",
    "\n",
    "\n",
    "def create_wall(matrix, line):\n",
    "    for ((x1, y1), (x2, y2)) in itertools.pairwise(line):\n",
    "        for x in range(min(x1, x2), max(x1, x2) + 1):\n",
    "            matrix.set((x, y1), ROCK)\n",
    "\n",
    "        for y in range(min(y1, y2), max(y1, y2) + 1):\n",
    "            matrix.set((x1, y), ROCK)\n",
    "\n",
    "\n",
    "def new_matrix(lines):\n",
    "    matrix = Model()\n",
    "    for line in lines:\n",
    "        create_wall(matrix, line)\n",
    "    return matrix\n",
    "\n",
    "\n",
    "def drop_sand(matrix, source):\n",
    "    x, y = source\n",
    "\n",
    "    if (not matrix.has_infinite_floor() and y >= matrix.height()) or matrix.get((x, y)) != AIR:\n",
    "        return False\n",
    "\n",
    "    if matrix.get((x, y + 1)) == AIR:\n",
    "        return drop_sand(matrix, (x, y + 1))\n",
    "    if matrix.get((x - 1, y + 1)) == AIR:\n",
    "        return drop_sand(matrix, (x - 1, y + 1))\n",
    "    if matrix.get((x + 1, y + 1)) == AIR:\n",
    "        return drop_sand(matrix, (x + 1, y + 1))\n",
    "\n",
    "    matrix.set((x, y), SAND)\n",
    "    return True\n"
   ]
  },
  {
   "cell_type": "code",
   "execution_count": null,
   "metadata": {},
   "outputs": [],
   "source": [
    "\n",
    "matrix = new_matrix(parse())\n",
    "\n",
    "i = 0\n",
    "while drop_sand(matrix, (500, 0)):\n",
    "    i += 1\n",
    "\n",
    "pretty_print(matrix, matrix.height() + 2)\n",
    "i\n",
    "\n"
   ]
  },
  {
   "cell_type": "code",
   "execution_count": null,
   "metadata": {},
   "outputs": [],
   "source": [
    "matrix = new_matrix(parse())\n",
    "matrix.set_infinite_floor_at(matrix.height() + 2)\n",
    "i = 0\n",
    "while drop_sand(matrix, (500, 0)):\n",
    "    i += 1\n",
    "\n",
    "pretty_print(matrix, matrix.height() + 3)\n",
    "i"
   ]
  }
 ],
 "metadata": {
  "kernelspec": {
   "display_name": "Python 3",
   "language": "python",
   "name": "python3"
  },
  "language_info": {
   "codemirror_mode": {
    "name": "ipython",
    "version": 3
   },
   "file_extension": ".py",
   "mimetype": "text/x-python",
   "name": "python",
   "nbconvert_exporter": "python",
   "pygments_lexer": "ipython3",
   "version": "3.10.8"
  },
  "orig_nbformat": 4,
  "vscode": {
   "interpreter": {
    "hash": "b0fa6594d8f4cbf19f97940f81e996739fb7646882a419484c72d19e05852a7e"
   }
  }
 },
 "nbformat": 4,
 "nbformat_minor": 2
}
