{
 "cells": [
  {
   "cell_type": "code",
   "execution_count": null,
   "metadata": {},
   "outputs": [],
   "source": [
    "import re\n",
    "from dataclasses import dataclass\n",
    "import itertools\n",
    "from typing import TypeAlias\n",
    "\n",
    "Point: TypeAlias = tuple[int, int]\n",
    "\n",
    "@dataclass\n",
    "class Beacon:\n",
    "    pos: Point\n",
    "\n",
    "@dataclass\n",
    "class Sensor:\n",
    "    pos: Point\n",
    "    beacon: Beacon\n",
    "    distance_to_beacon: int\n",
    "\n",
    "def manhattan_distance(p1: Point, p2: Point):\n",
    "    return abs(p1[0] - p2[0]) + abs(p1[1] - p2[1])\n",
    "\n",
    "def parse():\n",
    "    sensors = []\n",
    "    for line in open(\"input.txt\"):\n",
    "        m = re.match(\"Sensor at x=(?P<sx>-?\\d+), y=(?P<sy>-?\\d+): closest beacon is at x=(?P<bx>-?\\d+), y=(?P<by>-?\\d+)\", line)\n",
    "        p1 = (int(m.group(\"sx\")), int(m.group(\"sy\")))\n",
    "        p2 = (int(m.group(\"bx\")), int(m.group(\"by\")))\n",
    "        md = manhattan_distance(p1, p2)\n",
    "        sensors.append(Sensor(p1, Beacon(p2), md))\n",
    "\n",
    "    return sensors\n",
    "\n",
    "def inside(s: Sensor, pos: Point) -> bool:\n",
    "    return s.distance_to_beacon >= manhattan_distance(s.pos, pos)\n",
    "\n",
    "def is_in_range(x, r):\n",
    "    return r[0] <= x and x <= r[1]\n",
    "\n",
    "def ranges_touch(r1, r2):\n",
    "    return is_in_range(r1[0], r2) or is_in_range(r1[1], r2)\n",
    "\n",
    "def merge_ranges(r1, r2):\n",
    "    if ranges_touch(r1, r2):\n",
    "        return (min(r1[0], r2[0]), max(r1[1], r2[1]))\n",
    "    return None\n",
    "\n",
    "def considers_row(s: Sensor, row: int) -> bool:\n",
    "    return is_in_range(row, (s.pos[1] - s.distance_to_beacon, s.pos[1] + s.distance_to_beacon))\n",
    "\n",
    "def pretty_print(sensors: list[Sensor]):\n",
    "    minx, maxx = min([s.pos[0] - s.distance_to_beacon for s in sensors]), max([s.pos[0] + s.distance_to_beacon for s in sensors])\n",
    "    miny, maxy = min([s.pos[1] - s.distance_to_beacon for s in sensors]), max([s.pos[1] + s.distance_to_beacon for s in sensors])\n",
    "    \n",
    "    sensorposs = set([sensor.pos for sensor in sensors])\n",
    "    beaconspos = set([sensor.beacon.pos for sensor in sensors])\n",
    "\n",
    "    print(\"   \", end=\"\")\n",
    "    for x in range(minx, maxx + 1):\n",
    "        print(f\"{x:^3}\", end= \"\")\n",
    "    print()\n",
    "\n",
    "    for y in range(miny, maxy + 1):\n",
    "        print(f\"{y:>3}\", end=\"\")\n",
    "        for x in range(minx, maxx + 1):\n",
    "            ss = [s for s in sensors if inside(s, (x,y))]\n",
    "            print(f'{\".\" if not ss else \"S\" if (x,y) in sensorposs else \"B\" if (x,y) in beaconspos else \"#\":^3}', end=\"\")\n",
    "        print()\n",
    "\n",
    "    print(\" \" * maxx * 3, (maxx, maxy))  \n",
    "\n",
    "def count_convered_spots(sensors: list[Sensor], row):\n",
    "    ranges = set()\n",
    "    for s in sensors:\n",
    "        if not considers_row(s, row):\n",
    "            continue\n",
    "        x_distance_to_edge = (s.distance_to_beacon - manhattan_distance((s.pos[0], row), s.pos))\n",
    "        ranges = ranges.add((s.pos[0] - x_distance_to_edge, s.pos[0] + x_distance_to_edge))\n",
    "\n",
    "    stop = False\n",
    "    while not stop: \n",
    "        stop = True\n",
    "        for (r1, r2) in list([(r1, r2) for (r1, r2) in itertools.product(ranges.copy(), ranges.copy()) if ranges_touch(r1, r2) and r1 != r2]):\n",
    "            if r1 in ranges: ranges.remove(r1)\n",
    "            if r2 in ranges: ranges.remove(r2)\n",
    "            ranges.add(merge_ranges(r1, r2))\n",
    "            stop = False\n",
    "\n",
    "    return ranges"
   ]
  },
  {
   "cell_type": "code",
   "execution_count": null,
   "metadata": {},
   "outputs": [],
   "source": [
    "sensors = parse()\n",
    "#pretty_print(sensors)\n",
    "row = 2000000\n",
    "ranges = count_convered_spots(sensors, row)\n",
    "sum([xmax - xmin + 1 for xmin, xmax in ranges]) - len(set([s.beacon.pos for s in sensors if s.beacon.pos[1] == row]))\n"
   ]
  },
  {
   "cell_type": "code",
   "execution_count": null,
   "metadata": {},
   "outputs": [],
   "source": [
    "sensors = parse()\n",
    "# Ugh 30+ min\n",
    "for y in range(20):\n",
    "    r = count_convered_spots(sensors, y)\n",
    "    if len(r) > 1:\n",
    "        magic_row = y\n",
    "        break"
   ]
  },
  {
   "cell_type": "code",
   "execution_count": null,
   "metadata": {},
   "outputs": [],
   "source": [
    "sensors = parse()\n",
    "magic_x = sorted(count_convered_spots(sensors, magic_row), key=lambda x: x[1])[0][1] + 1\n",
    "magic_x * 4000000 + magic_row"
   ]
  }
 ],
 "metadata": {
  "kernelspec": {
   "display_name": "Python 3",
   "language": "python",
   "name": "python3"
  },
  "language_info": {
   "codemirror_mode": {
    "name": "ipython",
    "version": 3
   },
   "file_extension": ".py",
   "mimetype": "text/x-python",
   "name": "python",
   "nbconvert_exporter": "python",
   "pygments_lexer": "ipython3",
   "version": "3.10.8 (main, Oct 13 2022, 09:48:40) [Clang 14.0.0 (clang-1400.0.29.102)]"
  },
  "orig_nbformat": 4,
  "vscode": {
   "interpreter": {
    "hash": "b0fa6594d8f4cbf19f97940f81e996739fb7646882a419484c72d19e05852a7e"
   }
  }
 },
 "nbformat": 4,
 "nbformat_minor": 2
}
