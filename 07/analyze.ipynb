{
 "cells": [
  {
   "cell_type": "code",
   "execution_count": null,
   "metadata": {},
   "outputs": [],
   "source": [
    "from dataclasses import dataclass\n",
    "from __future__ import annotations\n",
    "\n",
    "@dataclass\n",
    "class Dir:\n",
    "    path: str\n",
    "    children: list[AoCFile|Dir]\n",
    "    parent: Dir\n",
    "\n",
    "@dataclass\n",
    "class AoCFile:\n",
    "    name: str\n",
    "    size: int"
   ]
  },
  {
   "cell_type": "code",
   "execution_count": null,
   "metadata": {},
   "outputs": [],
   "source": [
    "import re\n",
    "\n",
    "cd_pattern = \"\\$ cd (?P<directory>.*)\"\n",
    "ls_pattern = \"\\$ ls\"\n",
    "dir_pattern = \"dir (?P<dir>.*)\"\n",
    "size_pattern = \"(?P<size>\\d+) (?P<filename>.*)\"\n",
    "\n",
    "\n",
    "def shell():\n",
    "    curr_dir = None\n",
    "    for line in open(\"input.txt\"):\n",
    "        if (dir := re.match(cd_pattern, line)):\n",
    "            directory = dir.group(\"directory\")\n",
    "            if directory == \"..\":\n",
    "                curr_dir = curr_dir.parent\n",
    "            else:\n",
    "                tmp = Dir(dir.group(\"directory\"), [], curr_dir)\n",
    "                if curr_dir:\n",
    "                    curr_dir.children.append(tmp)\n",
    "                curr_dir = tmp\n",
    "        elif re.match(dir_pattern, line):\n",
    "            pass \n",
    "        elif (file := re.match(size_pattern, line)):\n",
    "            val = int(file.group(\"size\"))\n",
    "            curr_dir.children.append(AoCFile(file.group(\"filename\"), val))\n",
    "    \n",
    "    while curr_dir and curr_dir.parent:\n",
    "        curr_dir = curr_dir.parent\n",
    "    return curr_dir\n"
   ]
  },
  {
   "cell_type": "code",
   "execution_count": null,
   "metadata": {},
   "outputs": [],
   "source": [
    "\n",
    "def iter_fs(node):\n",
    "    if isinstance(node, AoCFile):\n",
    "        yield node\n",
    "    elif isinstance(node, Dir):\n",
    "        yield node\n",
    "        for child in node.children:\n",
    "            yield from iter_fs(child)\n",
    "\n",
    "\n",
    "def iter_directories(node):\n",
    "    return [x for x in iter_fs(node) if isinstance(x, Dir)]\n",
    "\n",
    "def sum_directory(node):\n",
    "    return sum([child.size for child in node.children if isinstance(child, AoCFile)]) \\\n",
    "        + sum([sum_directory(child) for child in node.children if isinstance(child, Dir)])\n",
    "\n",
    "root = shell()\n",
    "sum([val for d in iter_directories(root) if (val := sum_directory(d)) < 100000])\n"
   ]
  },
  {
   "cell_type": "code",
   "execution_count": null,
   "metadata": {},
   "outputs": [],
   "source": [
    "total_size = 70000000 \n",
    "required_size = 30000000\n",
    "used_size = sum_directory(shell())\n",
    "space_left = total_size - used_size\n",
    "extra_space_required = required_size - space_left\n",
    "extra_space_required\n",
    "\n",
    "sorted([(dir_size, d.path) for d in iter_directories(root) if (dir_size := sum_directory(d)) > extra_space_required])[0]"
   ]
  }
 ],
 "metadata": {
  "kernelspec": {
   "display_name": "Python 3.10.8 64-bit",
   "language": "python",
   "name": "python3"
  },
  "language_info": {
   "codemirror_mode": {
    "name": "ipython",
    "version": 3
   },
   "file_extension": ".py",
   "mimetype": "text/x-python",
   "name": "python",
   "nbconvert_exporter": "python",
   "pygments_lexer": "ipython3",
   "version": "3.10.8"
  },
  "orig_nbformat": 4,
  "vscode": {
   "interpreter": {
    "hash": "b0fa6594d8f4cbf19f97940f81e996739fb7646882a419484c72d19e05852a7e"
   }
  }
 },
 "nbformat": 4,
 "nbformat_minor": 2
}
