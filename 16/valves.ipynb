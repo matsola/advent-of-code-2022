{
 "cells": [
  {
   "cell_type": "code",
   "execution_count": 130,
   "metadata": {},
   "outputs": [],
   "source": [
    "import re\n",
    "from dataclasses import dataclass, field\n",
    "\n",
    "@dataclass\n",
    "class Valve:\n",
    "    id: str\n",
    "    flow: int\n",
    "    connections: list[str]\n",
    "    distance: dict[str, int] = field(default_factory=int)\n",
    "\n",
    "\n",
    "def compute_distances_from(valves: dict[str,Valve], valve: Valve) -> dict[str,tuple[int, int]]:\n",
    "    visited = set()\n",
    "    queue = [(valve.id, 0)]\n",
    "    res = {}\n",
    "    while queue and (t := queue.pop(0)):\n",
    "        next_valve, distance = t \n",
    "        res[next_valve] = min(res.get(next_valve, distance), distance)\n",
    "\n",
    "        visited.add(next_valve)\n",
    "        for v in valves[next_valve].connections:\n",
    "            if v not in visited:\n",
    "                queue.append((v, distance + 1))\n",
    "    return res \n",
    "\n",
    "def parse():\n",
    "    pattern = re.compile(\"Valve (?P<valve>[A-Z]{2}) has flow rate=(?P<flow>\\d+); tunnels? leads? to valves? (?P<tunnels>.*)\")\n",
    "    retval = {}\n",
    "\n",
    "    for line in open(\"input.txt\"):\n",
    "        res = pattern.match(line)\n",
    "        connections = set(res.group(\"tunnels\").split(\", \"))\n",
    "        id = res.group(\"valve\")\n",
    "        retval[id] = Valve(id, int(res.group(\"flow\")), connections)\n",
    "\n",
    "    for v in retval.values():\n",
    "        v.distance = compute_distances_from(retval, v)\n",
    "\n",
    "    return retval\n",
    "\n",
    "def bfs(valves: dict[str, Valve], valve: Valve) -> tuple[int, list[Valve]]:\n",
    "    queue = []\n",
    "    queue.append((0, 30, [(\"AA\", 30, 0)], set([v for v in valves.keys() if valves[v].flow > 0])))\n",
    "    \n",
    "    best = -1\n",
    "    best_path = []\n",
    "    i = 0\n",
    "    while queue:\n",
    "        score, time, path, valves_to_open = queue.pop(0)\n",
    "        if time < 0:\n",
    "            continue\n",
    "\n",
    "        if best < score:\n",
    "            best = score\n",
    "            best_path = path\n",
    "\n",
    "        for v_id in valves_to_open:\n",
    "            prev_valve = valves[path[0][0]]\n",
    "            curr_valve = valves[v_id]\n",
    "            distance = prev_valve.distance[v_id]\n",
    "            \n",
    "            curr_score = (time - distance - 1) * curr_valve.flow\n",
    "            queue.append((score + curr_score, time - distance - 1,  [(v_id, time - distance - 1, curr_score)] + path, valves_to_open - set([v_id])))\n",
    "\n",
    "        i += 1\n",
    "\n",
    "    return best, best_path\n",
    "\n",
    "def pretty_print(path: list[tuple[str, int]]):\n",
    "    for valve, t, score in path:\n",
    "        print(\"Turn valve\", valve, \"of at\", t, score) \n",
    "\n",
    "valves = parse()\n",
    "\n",
    "\n"
   ]
  },
  {
   "cell_type": "code",
   "execution_count": 131,
   "metadata": {},
   "outputs": [
    {
     "data": {
      "text/plain": [
       "(-1, [])"
      ]
     },
     "execution_count": 131,
     "metadata": {},
     "output_type": "execute_result"
    }
   ],
   "source": [
    "bfs(valves, valves[\"AA\"])"
   ]
  }
 ],
 "metadata": {
  "kernelspec": {
   "display_name": "Python 3",
   "language": "python",
   "name": "python3"
  },
  "language_info": {
   "codemirror_mode": {
    "name": "ipython",
    "version": 3
   },
   "file_extension": ".py",
   "mimetype": "text/x-python",
   "name": "python",
   "nbconvert_exporter": "python",
   "pygments_lexer": "ipython3",
   "version": "3.10.8"
  },
  "orig_nbformat": 4,
  "vscode": {
   "interpreter": {
    "hash": "b0fa6594d8f4cbf19f97940f81e996739fb7646882a419484c72d19e05852a7e"
   }
  }
 },
 "nbformat": 4,
 "nbformat_minor": 2
}
