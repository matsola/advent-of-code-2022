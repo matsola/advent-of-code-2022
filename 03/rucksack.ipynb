{
 "cells": [
  {
   "cell_type": "code",
   "execution_count": null,
   "metadata": {},
   "outputs": [],
   "source": [
    "def rucksacks():\n",
    "    for line in open(\"input.txt\"):\n",
    "        size = int(len(line) / 2)\n",
    "        yield (line[:size], line[size:])"
   ]
  },
  {
   "cell_type": "code",
   "execution_count": null,
   "metadata": {},
   "outputs": [],
   "source": [
    "def common_chrs(str1, str2):\n",
    "    dups = set()\n",
    "    for c in str1:\n",
    "        if c in str2:\n",
    "            dups.add(c)\n",
    "    return dups\n",
    "\n",
    "def priority(c: str):\n",
    "    return ord(c) - ord('a') + 1 if c.islower() else ord(c) - ord('A') + 27"
   ]
  },
  {
   "cell_type": "code",
   "execution_count": null,
   "metadata": {},
   "outputs": [],
   "source": [
    "total_score = 0\n",
    "for (c1, c2) in rucksacks():\n",
    "    total_score += sum([priority(d) for d in common_chrs(c1, c2)])\n",
    "\n",
    "total_score"
   ]
  },
  {
   "cell_type": "code",
   "execution_count": null,
   "metadata": {},
   "outputs": [],
   "source": [
    "def badges(e1, e2, e3):\n",
    "    return common_chrs(common_chrs(e1, e2), common_chrs(e2, e3))"
   ]
  },
  {
   "cell_type": "code",
   "execution_count": null,
   "metadata": {},
   "outputs": [],
   "source": [
    "def elf_groups():\n",
    "    with open(\"input.txt\") as fp:\n",
    "        lines = fp.readlines()\n",
    "        for x in range(0, len(lines), 3):\n",
    "            yield [line.strip() for line in lines[x:x+3]]"
   ]
  },
  {
   "cell_type": "code",
   "execution_count": null,
   "metadata": {},
   "outputs": [],
   "source": [
    "score = 0\n",
    "for (s1, s2, s3) in elf_groups():\n",
    "    score += sum([priority(d) for d in badges(s1, s2, s3)])\n",
    "score"
   ]
  }
 ],
 "metadata": {
  "kernelspec": {
   "display_name": "Python 3.10.8 64-bit",
   "language": "python",
   "name": "python3"
  },
  "language_info": {
   "codemirror_mode": {
    "name": "ipython",
    "version": 3
   },
   "file_extension": ".py",
   "mimetype": "text/x-python",
   "name": "python",
   "nbconvert_exporter": "python",
   "pygments_lexer": "ipython3",
   "version": "3.10.8"
  },
  "orig_nbformat": 4,
  "vscode": {
   "interpreter": {
    "hash": "b0fa6594d8f4cbf19f97940f81e996739fb7646882a419484c72d19e05852a7e"
   }
  }
 },
 "nbformat": 4,
 "nbformat_minor": 2
}
